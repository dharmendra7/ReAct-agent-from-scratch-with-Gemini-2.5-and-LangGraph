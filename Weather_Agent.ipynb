{
  "nbformat": 4,
  "nbformat_minor": 0,
  "metadata": {
    "colab": {
      "provenance": [],
      "authorship_tag": "ABX9TyOjJFv8e5TOZfzAFQ5ObUzF",
      "include_colab_link": true
    },
    "kernelspec": {
      "name": "python3",
      "display_name": "Python 3"
    },
    "language_info": {
      "name": "python"
    }
  },
  "cells": [
    {
      "cell_type": "markdown",
      "metadata": {
        "id": "view-in-github",
        "colab_type": "text"
      },
      "source": [
        "<a href=\"https://colab.research.google.com/github/dharmendra7/ReAct-agent-from-scratch-with-Gemini-2.5-and-LangGraph/blob/main/Weather_Agent.ipynb\" target=\"_parent\"><img src=\"https://colab.research.google.com/assets/colab-badge.svg\" alt=\"Open In Colab\"/></a>"
      ]
    },
    {
      "cell_type": "code",
      "execution_count": 1,
      "metadata": {
        "colab": {
          "base_uri": "https://localhost:8080/",
          "height": 1000
        },
        "id": "tL5UDmloDEeK",
        "outputId": "c6377921-49aa-4e05-ba66-92ed15d8a9c8"
      },
      "outputs": [
        {
          "output_type": "stream",
          "name": "stdout",
          "text": [
            "Collecting langgraph\n",
            "  Downloading langgraph-0.6.6-py3-none-any.whl.metadata (6.8 kB)\n",
            "Collecting langchain-google-genai\n",
            "  Downloading langchain_google_genai-2.1.9-py3-none-any.whl.metadata (7.2 kB)\n",
            "Requirement already satisfied: geopy in /usr/local/lib/python3.12/dist-packages (2.4.1)\n",
            "Requirement already satisfied: requests in /usr/local/lib/python3.12/dist-packages (2.32.4)\n",
            "Requirement already satisfied: langchain-core>=0.1 in /usr/local/lib/python3.12/dist-packages (from langgraph) (0.3.74)\n",
            "Collecting langgraph-checkpoint<3.0.0,>=2.1.0 (from langgraph)\n",
            "  Downloading langgraph_checkpoint-2.1.1-py3-none-any.whl.metadata (4.2 kB)\n",
            "Collecting langgraph-prebuilt<0.7.0,>=0.6.0 (from langgraph)\n",
            "  Downloading langgraph_prebuilt-0.6.4-py3-none-any.whl.metadata (4.5 kB)\n",
            "Collecting langgraph-sdk<0.3.0,>=0.2.2 (from langgraph)\n",
            "  Downloading langgraph_sdk-0.2.3-py3-none-any.whl.metadata (1.5 kB)\n",
            "Requirement already satisfied: pydantic>=2.7.4 in /usr/local/lib/python3.12/dist-packages (from langgraph) (2.11.7)\n",
            "Requirement already satisfied: xxhash>=3.5.0 in /usr/local/lib/python3.12/dist-packages (from langgraph) (3.5.0)\n",
            "Collecting filetype<2.0.0,>=1.2.0 (from langchain-google-genai)\n",
            "  Downloading filetype-1.2.0-py2.py3-none-any.whl.metadata (6.5 kB)\n",
            "Collecting google-ai-generativelanguage<0.7.0,>=0.6.18 (from langchain-google-genai)\n",
            "  Downloading google_ai_generativelanguage-0.6.18-py3-none-any.whl.metadata (9.8 kB)\n",
            "Requirement already satisfied: geographiclib<3,>=1.52 in /usr/local/lib/python3.12/dist-packages (from geopy) (2.0)\n",
            "Requirement already satisfied: charset_normalizer<4,>=2 in /usr/local/lib/python3.12/dist-packages (from requests) (3.4.3)\n",
            "Requirement already satisfied: idna<4,>=2.5 in /usr/local/lib/python3.12/dist-packages (from requests) (3.10)\n",
            "Requirement already satisfied: urllib3<3,>=1.21.1 in /usr/local/lib/python3.12/dist-packages (from requests) (2.5.0)\n",
            "Requirement already satisfied: certifi>=2017.4.17 in /usr/local/lib/python3.12/dist-packages (from requests) (2025.8.3)\n",
            "Requirement already satisfied: google-api-core!=2.0.*,!=2.1.*,!=2.10.*,!=2.2.*,!=2.3.*,!=2.4.*,!=2.5.*,!=2.6.*,!=2.7.*,!=2.8.*,!=2.9.*,<3.0.0,>=1.34.1 in /usr/local/lib/python3.12/dist-packages (from google-api-core[grpc]!=2.0.*,!=2.1.*,!=2.10.*,!=2.2.*,!=2.3.*,!=2.4.*,!=2.5.*,!=2.6.*,!=2.7.*,!=2.8.*,!=2.9.*,<3.0.0,>=1.34.1->google-ai-generativelanguage<0.7.0,>=0.6.18->langchain-google-genai) (2.25.1)\n",
            "Requirement already satisfied: google-auth!=2.24.0,!=2.25.0,<3.0.0,>=2.14.1 in /usr/local/lib/python3.12/dist-packages (from google-ai-generativelanguage<0.7.0,>=0.6.18->langchain-google-genai) (2.38.0)\n",
            "Requirement already satisfied: proto-plus<2.0.0,>=1.22.3 in /usr/local/lib/python3.12/dist-packages (from google-ai-generativelanguage<0.7.0,>=0.6.18->langchain-google-genai) (1.26.1)\n",
            "Requirement already satisfied: protobuf!=4.21.0,!=4.21.1,!=4.21.2,!=4.21.3,!=4.21.4,!=4.21.5,<7.0.0,>=3.20.2 in /usr/local/lib/python3.12/dist-packages (from google-ai-generativelanguage<0.7.0,>=0.6.18->langchain-google-genai) (5.29.5)\n",
            "Requirement already satisfied: langsmith>=0.3.45 in /usr/local/lib/python3.12/dist-packages (from langchain-core>=0.1->langgraph) (0.4.14)\n",
            "Requirement already satisfied: tenacity!=8.4.0,<10.0.0,>=8.1.0 in /usr/local/lib/python3.12/dist-packages (from langchain-core>=0.1->langgraph) (8.5.0)\n",
            "Requirement already satisfied: jsonpatch<2.0,>=1.33 in /usr/local/lib/python3.12/dist-packages (from langchain-core>=0.1->langgraph) (1.33)\n",
            "Requirement already satisfied: PyYAML>=5.3 in /usr/local/lib/python3.12/dist-packages (from langchain-core>=0.1->langgraph) (6.0.2)\n",
            "Requirement already satisfied: typing-extensions>=4.7 in /usr/local/lib/python3.12/dist-packages (from langchain-core>=0.1->langgraph) (4.14.1)\n",
            "Requirement already satisfied: packaging>=23.2 in /usr/local/lib/python3.12/dist-packages (from langchain-core>=0.1->langgraph) (25.0)\n",
            "Collecting ormsgpack>=1.10.0 (from langgraph-checkpoint<3.0.0,>=2.1.0->langgraph)\n",
            "  Downloading ormsgpack-1.10.0-cp312-cp312-manylinux_2_17_x86_64.manylinux2014_x86_64.whl.metadata (43 kB)\n",
            "\u001b[2K     \u001b[90m━━━━━━━━━━━━━━━━━━━━━━━━━━━━━━━━━━━━━━━━\u001b[0m \u001b[32m43.7/43.7 kB\u001b[0m \u001b[31m3.0 MB/s\u001b[0m eta \u001b[36m0:00:00\u001b[0m\n",
            "\u001b[?25hRequirement already satisfied: httpx>=0.25.2 in /usr/local/lib/python3.12/dist-packages (from langgraph-sdk<0.3.0,>=0.2.2->langgraph) (0.28.1)\n",
            "Requirement already satisfied: orjson>=3.10.1 in /usr/local/lib/python3.12/dist-packages (from langgraph-sdk<0.3.0,>=0.2.2->langgraph) (3.11.2)\n",
            "Requirement already satisfied: annotated-types>=0.6.0 in /usr/local/lib/python3.12/dist-packages (from pydantic>=2.7.4->langgraph) (0.7.0)\n",
            "Requirement already satisfied: pydantic-core==2.33.2 in /usr/local/lib/python3.12/dist-packages (from pydantic>=2.7.4->langgraph) (2.33.2)\n",
            "Requirement already satisfied: typing-inspection>=0.4.0 in /usr/local/lib/python3.12/dist-packages (from pydantic>=2.7.4->langgraph) (0.4.1)\n",
            "Requirement already satisfied: googleapis-common-protos<2.0.0,>=1.56.2 in /usr/local/lib/python3.12/dist-packages (from google-api-core!=2.0.*,!=2.1.*,!=2.10.*,!=2.2.*,!=2.3.*,!=2.4.*,!=2.5.*,!=2.6.*,!=2.7.*,!=2.8.*,!=2.9.*,<3.0.0,>=1.34.1->google-api-core[grpc]!=2.0.*,!=2.1.*,!=2.10.*,!=2.2.*,!=2.3.*,!=2.4.*,!=2.5.*,!=2.6.*,!=2.7.*,!=2.8.*,!=2.9.*,<3.0.0,>=1.34.1->google-ai-generativelanguage<0.7.0,>=0.6.18->langchain-google-genai) (1.70.0)\n",
            "Requirement already satisfied: grpcio<2.0.0,>=1.33.2 in /usr/local/lib/python3.12/dist-packages (from google-api-core[grpc]!=2.0.*,!=2.1.*,!=2.10.*,!=2.2.*,!=2.3.*,!=2.4.*,!=2.5.*,!=2.6.*,!=2.7.*,!=2.8.*,!=2.9.*,<3.0.0,>=1.34.1->google-ai-generativelanguage<0.7.0,>=0.6.18->langchain-google-genai) (1.74.0)\n",
            "Requirement already satisfied: grpcio-status<2.0.0,>=1.33.2 in /usr/local/lib/python3.12/dist-packages (from google-api-core[grpc]!=2.0.*,!=2.1.*,!=2.10.*,!=2.2.*,!=2.3.*,!=2.4.*,!=2.5.*,!=2.6.*,!=2.7.*,!=2.8.*,!=2.9.*,<3.0.0,>=1.34.1->google-ai-generativelanguage<0.7.0,>=0.6.18->langchain-google-genai) (1.71.2)\n",
            "Requirement already satisfied: cachetools<6.0,>=2.0.0 in /usr/local/lib/python3.12/dist-packages (from google-auth!=2.24.0,!=2.25.0,<3.0.0,>=2.14.1->google-ai-generativelanguage<0.7.0,>=0.6.18->langchain-google-genai) (5.5.2)\n",
            "Requirement already satisfied: pyasn1-modules>=0.2.1 in /usr/local/lib/python3.12/dist-packages (from google-auth!=2.24.0,!=2.25.0,<3.0.0,>=2.14.1->google-ai-generativelanguage<0.7.0,>=0.6.18->langchain-google-genai) (0.4.2)\n",
            "Requirement already satisfied: rsa<5,>=3.1.4 in /usr/local/lib/python3.12/dist-packages (from google-auth!=2.24.0,!=2.25.0,<3.0.0,>=2.14.1->google-ai-generativelanguage<0.7.0,>=0.6.18->langchain-google-genai) (4.9.1)\n",
            "Requirement already satisfied: anyio in /usr/local/lib/python3.12/dist-packages (from httpx>=0.25.2->langgraph-sdk<0.3.0,>=0.2.2->langgraph) (4.10.0)\n",
            "Requirement already satisfied: httpcore==1.* in /usr/local/lib/python3.12/dist-packages (from httpx>=0.25.2->langgraph-sdk<0.3.0,>=0.2.2->langgraph) (1.0.9)\n",
            "Requirement already satisfied: h11>=0.16 in /usr/local/lib/python3.12/dist-packages (from httpcore==1.*->httpx>=0.25.2->langgraph-sdk<0.3.0,>=0.2.2->langgraph) (0.16.0)\n",
            "Requirement already satisfied: jsonpointer>=1.9 in /usr/local/lib/python3.12/dist-packages (from jsonpatch<2.0,>=1.33->langchain-core>=0.1->langgraph) (3.0.0)\n",
            "Requirement already satisfied: requests-toolbelt>=1.0.0 in /usr/local/lib/python3.12/dist-packages (from langsmith>=0.3.45->langchain-core>=0.1->langgraph) (1.0.0)\n",
            "Requirement already satisfied: zstandard>=0.23.0 in /usr/local/lib/python3.12/dist-packages (from langsmith>=0.3.45->langchain-core>=0.1->langgraph) (0.24.0)\n",
            "Requirement already satisfied: pyasn1<0.7.0,>=0.6.1 in /usr/local/lib/python3.12/dist-packages (from pyasn1-modules>=0.2.1->google-auth!=2.24.0,!=2.25.0,<3.0.0,>=2.14.1->google-ai-generativelanguage<0.7.0,>=0.6.18->langchain-google-genai) (0.6.1)\n",
            "Requirement already satisfied: sniffio>=1.1 in /usr/local/lib/python3.12/dist-packages (from anyio->httpx>=0.25.2->langgraph-sdk<0.3.0,>=0.2.2->langgraph) (1.3.1)\n",
            "Downloading langgraph-0.6.6-py3-none-any.whl (153 kB)\n",
            "\u001b[2K   \u001b[90m━━━━━━━━━━━━━━━━━━━━━━━━━━━━━━━━━━━━━━━━\u001b[0m \u001b[32m153.3/153.3 kB\u001b[0m \u001b[31m5.7 MB/s\u001b[0m eta \u001b[36m0:00:00\u001b[0m\n",
            "\u001b[?25hDownloading langchain_google_genai-2.1.9-py3-none-any.whl (49 kB)\n",
            "\u001b[2K   \u001b[90m━━━━━━━━━━━━━━━━━━━━━━━━━━━━━━━━━━━━━━━━\u001b[0m \u001b[32m49.4/49.4 kB\u001b[0m \u001b[31m4.6 MB/s\u001b[0m eta \u001b[36m0:00:00\u001b[0m\n",
            "\u001b[?25hDownloading filetype-1.2.0-py2.py3-none-any.whl (19 kB)\n",
            "Downloading google_ai_generativelanguage-0.6.18-py3-none-any.whl (1.4 MB)\n",
            "\u001b[2K   \u001b[90m━━━━━━━━━━━━━━━━━━━━━━━━━━━━━━━━━━━━━━━━\u001b[0m \u001b[32m1.4/1.4 MB\u001b[0m \u001b[31m52.7 MB/s\u001b[0m eta \u001b[36m0:00:00\u001b[0m\n",
            "\u001b[?25hDownloading langgraph_checkpoint-2.1.1-py3-none-any.whl (43 kB)\n",
            "\u001b[2K   \u001b[90m━━━━━━━━━━━━━━━━━━━━━━━━━━━━━━━━━━━━━━━━\u001b[0m \u001b[32m43.9/43.9 kB\u001b[0m \u001b[31m4.0 MB/s\u001b[0m eta \u001b[36m0:00:00\u001b[0m\n",
            "\u001b[?25hDownloading langgraph_prebuilt-0.6.4-py3-none-any.whl (28 kB)\n",
            "Downloading langgraph_sdk-0.2.3-py3-none-any.whl (52 kB)\n",
            "\u001b[2K   \u001b[90m━━━━━━━━━━━━━━━━━━━━━━━━━━━━━━━━━━━━━━━━\u001b[0m \u001b[32m52.6/52.6 kB\u001b[0m \u001b[31m5.1 MB/s\u001b[0m eta \u001b[36m0:00:00\u001b[0m\n",
            "\u001b[?25hDownloading ormsgpack-1.10.0-cp312-cp312-manylinux_2_17_x86_64.manylinux2014_x86_64.whl (216 kB)\n",
            "\u001b[2K   \u001b[90m━━━━━━━━━━━━━━━━━━━━━━━━━━━━━━━━━━━━━━━━\u001b[0m \u001b[32m216.7/216.7 kB\u001b[0m \u001b[31m19.2 MB/s\u001b[0m eta \u001b[36m0:00:00\u001b[0m\n",
            "\u001b[?25hInstalling collected packages: filetype, ormsgpack, langgraph-sdk, langgraph-checkpoint, google-ai-generativelanguage, langgraph-prebuilt, langchain-google-genai, langgraph\n",
            "  Attempting uninstall: google-ai-generativelanguage\n",
            "    Found existing installation: google-ai-generativelanguage 0.6.15\n",
            "    Uninstalling google-ai-generativelanguage-0.6.15:\n",
            "      Successfully uninstalled google-ai-generativelanguage-0.6.15\n",
            "\u001b[31mERROR: pip's dependency resolver does not currently take into account all the packages that are installed. This behaviour is the source of the following dependency conflicts.\n",
            "google-generativeai 0.8.5 requires google-ai-generativelanguage==0.6.15, but you have google-ai-generativelanguage 0.6.18 which is incompatible.\u001b[0m\u001b[31m\n",
            "\u001b[0mSuccessfully installed filetype-1.2.0 google-ai-generativelanguage-0.6.18 langchain-google-genai-2.1.9 langgraph-0.6.6 langgraph-checkpoint-2.1.1 langgraph-prebuilt-0.6.4 langgraph-sdk-0.2.3 ormsgpack-1.10.0\n"
          ]
        },
        {
          "output_type": "display_data",
          "data": {
            "application/vnd.colab-display-data+json": {
              "pip_warning": {
                "packages": [
                  "google"
                ]
              },
              "id": "6b06d56f9fe043299050e6f6bff3fa90"
            }
          },
          "metadata": {}
        }
      ],
      "source": [
        "%pip install langgraph langchain-google-genai geopy requests"
      ]
    },
    {
      "cell_type": "code",
      "source": [
        "import os\n",
        "\n",
        "# Read your API key from the environment variable or set it manually\n",
        "api_key = os.getenv(\"GEMINI_API_KEY\",\"xxx\")"
      ],
      "metadata": {
        "id": "zJmTosUOI1gm"
      },
      "execution_count": null,
      "outputs": []
    },
    {
      "cell_type": "code",
      "source": [
        "from typing import Annotated,Sequence, TypedDict\n",
        "\n",
        "from langchain_core.messages import BaseMessage\n",
        "from langgraph.graph.message import add_messages # helper function to add messages to the state\n",
        "\n",
        "\n",
        "class AgentState(TypedDict):\n",
        "    \"\"\"The state of the agent.\"\"\"\n",
        "    messages: Annotated[Sequence[BaseMessage], add_messages]\n",
        "    number_of_steps: int"
      ],
      "metadata": {
        "id": "4reYzsltI53c"
      },
      "execution_count": 15,
      "outputs": []
    },
    {
      "cell_type": "code",
      "source": [
        "from langchain_core.tools import tool\n",
        "from geopy.geocoders import Nominatim\n",
        "from pydantic import BaseModel, Field\n",
        "import requests\n",
        "\n",
        "geolocator = Nominatim(user_agent=\"weather-app\")\n",
        "\n",
        "class SearchInput(BaseModel):\n",
        "    location:str = Field(description=\"The city and state, e.g., San Francisco\")\n",
        "    date:str = Field(description=\"the forecasting date for when to get the weather format (yyyy-mm-dd)\")\n",
        "\n",
        "@tool(\"get_weather_forecast\", args_schema=SearchInput, return_direct=True)\n",
        "def get_weather_forecast(location: str, date: str):\n",
        "    \"\"\"Retrieves the weather using Open-Meteo API for a given location (city) and a date (yyyy-mm-dd). Returns a list dictionary with the time and temperature for each hour.\"\"\"\n",
        "    location = geolocator.geocode(location)\n",
        "    print(location)\n",
        "    if location:\n",
        "        try:\n",
        "            response = requests.get(f\"https://api.open-meteo.com/v1/forecast?latitude={location.latitude}&longitude={location.longitude}&hourly=temperature_2m&start_date={date}&end_date={date}\")\n",
        "            data = response.json()\n",
        "            print(data)\n",
        "            return {time: temp for time, temp in zip(data[\"hourly\"][\"time\"], data[\"hourly\"][\"temperature_2m\"])}\n",
        "        except Exception as e:\n",
        "            return {\"error\": str(e)}\n",
        "    else:\n",
        "        return {\"error\": \"Location not found\"}\n",
        "\n",
        "tools = [get_weather_forecast]"
      ],
      "metadata": {
        "id": "Y179Eki8I7ad"
      },
      "execution_count": 27,
      "outputs": []
    },
    {
      "cell_type": "code",
      "source": [
        "from langchain_google_genai import ChatGoogleGenerativeAI\n",
        "\n",
        "# Create LLM class\n",
        "llm = ChatGoogleGenerativeAI(\n",
        "    model= \"gemini-2.0-flash\", # replace with \"gemini-2.0-flash\"\n",
        "    temperature=1.0,\n",
        "    max_tokens=None,\n",
        "    timeout=None,\n",
        "    max_retries=2,\n",
        "    google_api_key=api_key,\n",
        ")\n",
        "\n",
        "# Bind tools to the model\n",
        "model = llm.bind_tools([get_weather_forecast])\n",
        "\n",
        "# Test the model with tools\n",
        "model.invoke(\"What is the weather in Berlin on 12th of March 2025?\")"
      ],
      "metadata": {
        "colab": {
          "base_uri": "https://localhost:8080/"
        },
        "id": "onpJLkpbI9CK",
        "outputId": "24d74693-92fa-4034-c2e9-26675f30b12b"
      },
      "execution_count": 28,
      "outputs": [
        {
          "output_type": "execute_result",
          "data": {
            "text/plain": [
              "AIMessage(content='', additional_kwargs={'function_call': {'name': 'get_weather_forecast', 'arguments': '{\"date\": \"2025-03-12\", \"location\": \"Berlin\"}'}}, response_metadata={'prompt_feedback': {'block_reason': 0, 'safety_ratings': []}, 'finish_reason': 'STOP', 'model_name': 'gemini-2.0-flash', 'safety_ratings': []}, id='run--470d6404-633b-444b-8b0d-1c712ed05518-0', tool_calls=[{'name': 'get_weather_forecast', 'args': {'date': '2025-03-12', 'location': 'Berlin'}, 'id': 'dba41e8b-37c0-49c1-aa98-a9035f679114', 'type': 'tool_call'}], usage_metadata={'input_tokens': 99, 'output_tokens': 18, 'total_tokens': 117, 'input_token_details': {'cache_read': 0}})"
            ]
          },
          "metadata": {},
          "execution_count": 28
        }
      ]
    },
    {
      "cell_type": "code",
      "source": [
        "import json\n",
        "from langchain_core.messages import ToolMessage, SystemMessage\n",
        "from langchain_core.runnables import RunnableConfig\n",
        "\n",
        "tools_by_name = {tool.name: tool for tool in tools}\n",
        "\n",
        "# this is similar to customizing the create_react_agent with 'prompt' parameter, but is more flexible\n",
        "# system_prompt = SystemMessage(\n",
        "#     \"You are a helpful assistant that use tools to access and retrieve information from a weather API. Today is 2025-03-04. Help the user with their questions. Use the history to answer the question.\"\n",
        "# )\n",
        "\n",
        "# Define our tool node\n",
        "def call_tool(state: AgentState):\n",
        "    outputs = []\n",
        "    # Iterate over the tool calls in the last message\n",
        "    for tool_call in state[\"messages\"][-1].tool_calls:\n",
        "        # Get the tool by name\n",
        "        tool_result = tools_by_name[tool_call[\"name\"]].invoke(tool_call[\"args\"])\n",
        "        outputs.append(\n",
        "            ToolMessage(\n",
        "                content=tool_result,\n",
        "                name=tool_call[\"name\"],\n",
        "                tool_call_id=tool_call[\"id\"],\n",
        "            )\n",
        "        )\n",
        "    return {\"messages\": outputs}\n",
        "\n",
        "def call_model(\n",
        "    state: AgentState,\n",
        "    config: RunnableConfig,\n",
        "):\n",
        "    # Invoke the model with the system prompt and the messages\n",
        "    response = model.invoke(state[\"messages\"], config)\n",
        "    # We return a list, because this will get added to the existing messages state using the add_messages reducer\n",
        "    return {\"messages\": [response]}\n",
        "\n",
        "\n",
        "# Define the conditional edge that determines whether to continue or not\n",
        "def should_continue(state: AgentState):\n",
        "    messages = state[\"messages\"]\n",
        "    # If the last message is not a tool call, then we finish\n",
        "    if not messages[-1].tool_calls:\n",
        "        return \"end\"\n",
        "    # default to continue\n",
        "    return \"continue\""
      ],
      "metadata": {
        "id": "Qeq_4oQmJA7g"
      },
      "execution_count": 29,
      "outputs": []
    },
    {
      "cell_type": "code",
      "source": [
        "\n",
        "from IPython.display import Image, display\n",
        "\n",
        "display(Image(graph.get_graph().draw_mermaid_png()))"
      ],
      "metadata": {
        "colab": {
          "base_uri": "https://localhost:8080/",
          "height": 290
        },
        "id": "m1WjwYI6JC2z",
        "outputId": "6b7d5466-ac52-45a3-97c7-7901a34dcaa4"
      },
      "execution_count": 30,
      "outputs": [
        {
          "output_type": "display_data",
          "data": {
            "image/png": "[encoded data removed]",
            "text/plain": [
              "<IPython.core.display.Image object>"
            ]
          },
          "metadata": {}
        }
      ]
    },
    {
      "cell_type": "code",
      "source": [
        "# Create our initial message dictionary\n",
        "inputs = {\"messages\": [(\"user\", \"How is the weather in jammu and kashmir on 12th of August 2025?\")]}\n",
        "\n",
        "# call our graph with streaming to see the steps\n",
        "\n",
        "for state in graph.stream(inputs, stream_mode=\"values\"):\n",
        "    last_message = state[\"messages\"][-1]\n",
        "    last_message.pretty_print()"
      ],
      "metadata": {
        "colab": {
          "base_uri": "https://localhost:8080/"
        },
        "id": "EQ5PBdPRJMoi",
        "outputId": "6d1d160a-4749-4855-b7ef-1629000cd32d"
      },
      "execution_count": 38,
      "outputs": [
        {
          "output_type": "stream",
          "name": "stdout",
          "text": [
            "================================\u001b[1m Human Message \u001b[0m=================================\n",
            "\n",
            "How is the weather in jammu and kashmir on 12th of August 2025?\n",
            "==================================\u001b[1m Ai Message \u001b[0m==================================\n",
            "Tool Calls:\n",
            "  get_weather_forecast (a91b17bc-351e-4517-a352-3d098020ae3a)\n",
            " Call ID: a91b17bc-351e-4517-a352-3d098020ae3a\n",
            "  Args:\n",
            "    date: 2025-08-12\n",
            "    location: jammu and kashmir\n",
            "Jammu and Kashmir, India\n",
            "{'latitude': 33.75, 'longitude': 75.125, 'generationtime_ms': 0.03039836883544922, 'utc_offset_seconds': 0, 'timezone': 'GMT', 'timezone_abbreviation': 'GMT', 'elevation': 1643.0, 'hourly_units': {'time': 'iso8601', 'temperature_2m': '°C'}, 'hourly': {'time': ['2025-08-12T00:00', '2025-08-12T01:00', '2025-08-12T02:00', '2025-08-12T03:00', '2025-08-12T04:00', '2025-08-12T05:00', '2025-08-12T06:00', '2025-08-12T07:00', '2025-08-12T08:00', '2025-08-12T09:00', '2025-08-12T10:00', '2025-08-12T11:00', '2025-08-12T12:00', '2025-08-12T13:00', '2025-08-12T14:00', '2025-08-12T15:00', '2025-08-12T16:00', '2025-08-12T17:00', '2025-08-12T18:00', '2025-08-12T19:00', '2025-08-12T20:00', '2025-08-12T21:00', '2025-08-12T22:00', '2025-08-12T23:00'], 'temperature_2m': [23.1, 23.0, 24.0, 25.5, 26.7, 27.9, 29.9, 31.0, 31.8, 31.6, 30.9, 30.4, 30.2, 28.8, 26.7, 25.3, 24.6, 24.0, 23.9, 23.8, 23.5, 22.8, 22.4, 22.3]}}\n",
            "=================================\u001b[1m Tool Message \u001b[0m=================================\n",
            "Name: get_weather_forecast\n",
            "\n",
            "{'2025-08-12T00:00': 23.1, '2025-08-12T01:00': 23.0, '2025-08-12T02:00': 24.0, '2025-08-12T03:00': 25.5, '2025-08-12T04:00': 26.7, '2025-08-12T05:00': 27.9, '2025-08-12T06:00': 29.9, '2025-08-12T07:00': 31.0, '2025-08-12T08:00': 31.8, '2025-08-12T09:00': 31.6, '2025-08-12T10:00': 30.9, '2025-08-12T11:00': 30.4, '2025-08-12T12:00': 30.2, '2025-08-12T13:00': 28.8, '2025-08-12T14:00': 26.7, '2025-08-12T15:00': 25.3, '2025-08-12T16:00': 24.6, '2025-08-12T17:00': 24.0, '2025-08-12T18:00': 23.9, '2025-08-12T19:00': 23.8, '2025-08-12T20:00': 23.5, '2025-08-12T21:00': 22.8, '2025-08-12T22:00': 22.4, '2025-08-12T23:00': 22.3}\n",
            "==================================\u001b[1m Ai Message \u001b[0m==================================\n",
            "\n",
            "OK. The weather in jammu and kashmir on 12th of August 2025 will be: 23.1 degrees Celsius at 00:00, 23.0 degrees Celsius at 01:00, 24.0 degrees Celsius at 02:00, 25.5 degrees Celsius at 03:00, 26.7 degrees Celsius at 04:00, 27.9 degrees Celsius at 05:00, 29.9 degrees Celsius at 06:00, 31.0 degrees Celsius at 07:00, 31.8 degrees Celsius at 08:00, 31.6 degrees Celsius at 09:00, 30.9 degrees Celsius at 10:00, 30.4 degrees Celsius at 11:00, 30.2 degrees Celsius at 12:00, 28.8 degrees Celsius at 13:00, 26.7 degrees Celsius at 14:00, 25.3 degrees Celsius at 15:00, 24.6 degrees Celsius at 16:00, 24.0 degrees Celsius at 17:00, 23.9 degrees Celsius at 18:00, 23.8 degrees Celsius at 19:00, 23.5 degrees Celsius at 20:00, 22.8 degrees Celsius at 21:00, 22.4 degrees Celsius at 22:00, 22.3 degrees Celsius at 23:00.\n"
          ]
        }
      ]
    },
    {
      "cell_type": "code",
      "source": [
        "state[\"messages\"].append((\"user\", \"Would it be in Kedarnath warmer?\"))\n",
        "\n",
        "\n",
        "for state in graph.stream(state, stream_mode=\"values\"):\n",
        "    last_message = state[\"messages\"][-1]\n",
        "    last_message.pretty_print()"
      ],
      "metadata": {
        "colab": {
          "base_uri": "https://localhost:8080/"
        },
        "id": "kBFAV5l2JN9g",
        "outputId": "343f3923-eb74-4d7b-f4aa-32afef857f7c"
      },
      "execution_count": 39,
      "outputs": [
        {
          "output_type": "stream",
          "name": "stdout",
          "text": [
            "================================\u001b[1m Human Message \u001b[0m=================================\n",
            "\n",
            "Would it be in Kedarnath warmer?\n",
            "==================================\u001b[1m Ai Message \u001b[0m==================================\n",
            "Tool Calls:\n",
            "  get_weather_forecast (25032817-46d5-466c-82be-7f273f87b6ce)\n",
            " Call ID: 25032817-46d5-466c-82be-7f273f87b6ce\n",
            "  Args:\n",
            "    date: 2025-08-12\n",
            "    location: Kedarnath\n",
            "Kedarnath, Ukhimath, Rudraprayag, Uttarakhand, India\n",
            "{'latitude': 30.625, 'longitude': 79.25, 'generationtime_ms': 0.8889436721801758, 'utc_offset_seconds': 0, 'timezone': 'GMT', 'timezone_abbreviation': 'GMT', 'elevation': 3544.0, 'hourly_units': {'time': 'iso8601', 'temperature_2m': '°C'}, 'hourly': {'time': ['2025-08-12T00:00', '2025-08-12T01:00', '2025-08-12T02:00', '2025-08-12T03:00', '2025-08-12T04:00', '2025-08-12T05:00', '2025-08-12T06:00', '2025-08-12T07:00', '2025-08-12T08:00', '2025-08-12T09:00', '2025-08-12T10:00', '2025-08-12T11:00', '2025-08-12T12:00', '2025-08-12T13:00', '2025-08-12T14:00', '2025-08-12T15:00', '2025-08-12T16:00', '2025-08-12T17:00', '2025-08-12T18:00', '2025-08-12T19:00', '2025-08-12T20:00', '2025-08-12T21:00', '2025-08-12T22:00', '2025-08-12T23:00'], 'temperature_2m': [16.7, 16.9, 17.5, 18.0, 18.4, 18.7, 19.1, 19.7, 19.3, 18.9, 18.6, 18.2, 18.0, 17.9, 17.6, 17.4, 17.5, 17.5, 17.0, 16.8, 16.9, 16.7, 16.6, 16.5]}}\n",
            "=================================\u001b[1m Tool Message \u001b[0m=================================\n",
            "Name: get_weather_forecast\n",
            "\n",
            "{'2025-08-12T00:00': 16.7, '2025-08-12T01:00': 16.9, '2025-08-12T02:00': 17.5, '2025-08-12T03:00': 18.0, '2025-08-12T04:00': 18.4, '2025-08-12T05:00': 18.7, '2025-08-12T06:00': 19.1, '2025-08-12T07:00': 19.7, '2025-08-12T08:00': 19.3, '2025-08-12T09:00': 18.9, '2025-08-12T10:00': 18.6, '2025-08-12T11:00': 18.2, '2025-08-12T12:00': 18.0, '2025-08-12T13:00': 17.9, '2025-08-12T14:00': 17.6, '2025-08-12T15:00': 17.4, '2025-08-12T16:00': 17.5, '2025-08-12T17:00': 17.5, '2025-08-12T18:00': 17.0, '2025-08-12T19:00': 16.8, '2025-08-12T20:00': 16.9, '2025-08-12T21:00': 16.7, '2025-08-12T22:00': 16.6, '2025-08-12T23:00': 16.5}\n",
            "==================================\u001b[1m Ai Message \u001b[0m==================================\n",
            "\n",
            "No, Kedarnath would not be warmer than Jammu and Kashmir on August 12, 2025. The temperature in Kedarnath ranges from 16.5 to 19.7 degrees Celsius, while in Jammu and Kashmir, it ranges from 22.3 to 31.8 degrees Celsius.\n"
          ]
        }
      ]
    },
    {
      "cell_type": "code",
      "source": [],
      "metadata": {
        "id": "Bc3dlYUwJPhe"
      },
      "execution_count": null,
      "outputs": []
    }
  ]
}